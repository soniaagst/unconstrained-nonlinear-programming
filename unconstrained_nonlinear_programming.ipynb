{
  "nbformat": 4,
  "nbformat_minor": 0,
  "metadata": {
    "colab": {
      "provenance": [],
      "collapsed_sections": [
        "KT2OxhJPH_w0"
      ],
      "authorship_tag": "ABX9TyPC4glWh04IlGR7r+p8RVUa",
      "include_colab_link": true
    },
    "kernelspec": {
      "name": "python3",
      "display_name": "Python 3"
    }
  },
  "cells": [
    {
      "cell_type": "markdown",
      "metadata": {
        "id": "view-in-github",
        "colab_type": "text"
      },
      "source": [
        "<a href=\"https://colab.research.google.com/github/soniaagst/unconstrained-nonlinear-programming/blob/main/unconstrained_nonlinear_programming.ipynb\" target=\"_parent\"><img src=\"https://colab.research.google.com/assets/colab-badge.svg\" alt=\"Open In Colab\"/></a>"
      ]
    },
    {
      "cell_type": "markdown",
      "metadata": {
        "id": "Ey2dM0AlHcTQ"
      },
      "source": [
        "# Optimisasi Nonlinear Tanpa Kendala"
      ]
    },
    {
      "cell_type": "markdown",
      "metadata": {
        "id": "jTiFwzBlQgFQ"
      },
      "source": [
        "Minimumkan $f($**x**$) = x_1^2 + 5x_2^2 + 25x_3^2 - x_1 - x_2 - x_3$\n",
        "\n",
        "Dalam bentuk kuadratik $f($**x**$) = $ **x**$^TQ$ **x** $-$ **x**$^Tb$, diperoleh\n",
        "\n",
        "$Q =\n",
        "\\begin{bmatrix}\n",
        "2 && 0 && 0 \\\\\n",
        "0 && 10 && 0 \\\\\n",
        "0 && 0 && 50\n",
        "\\end{bmatrix}$, dan\n",
        "\n",
        "$b =\n",
        "\\begin{bmatrix} 1\\\\1\\\\1 \\end{bmatrix}.$\n",
        "\n",
        "Dari sini, diketahui\n",
        "\n",
        "$\\nabla f($**x**$) = Q$ **x** $-b$ dan $\\nabla^2f($**x**$) = Q.$"
      ]
    },
    {
      "cell_type": "code",
      "metadata": {
        "id": "QC7Nb7I3Gycg"
      },
      "source": [
        "import numpy as np\n",
        "\n",
        "# soal\n",
        "Q = np.array([[2, 0, 0],\n",
        "              [0, 10, 0],\n",
        "              [0, 0, 50]])\n",
        "\n",
        "b = np.array([1, 1, 1])"
      ],
      "execution_count": null,
      "outputs": []
    },
    {
      "cell_type": "markdown",
      "metadata": {
        "id": "KT2OxhJPH_w0"
      },
      "source": [
        "## Algoritma Umum"
      ]
    },
    {
      "cell_type": "code",
      "metadata": {
        "id": "N6YtAfGoZ8IX"
      },
      "source": [
        "def algoritma_umum(Q, b, x0, alpha = 0.01, maxiter = 500, eps = 1E-4):\n",
        "  df = lambda x: (Q @ x) - b # fungsi nabla f\n",
        "  x = x0\n",
        "  k = 0\n",
        "  while k < maxiter:\n",
        "    x = x - alpha * df(x)\n",
        "    k = k + 1\n",
        "    error = np.linalg.norm(df(x))\n",
        "    if error < eps:\n",
        "      break\n",
        "  print('x0 =', x0)\n",
        "  print('alpha =', alpha)\n",
        "  print('iterasi ke-', k)\n",
        "  print('x =', x)\n",
        "  print('error =', error)\n",
        "  print()"
      ],
      "execution_count": null,
      "outputs": []
    },
    {
      "cell_type": "code",
      "metadata": {
        "colab": {
          "base_uri": "https://localhost:8080/"
        },
        "id": "eY6DT-4rDc-a",
        "outputId": "da528dd2-d96c-4faa-dd33-a75fe42ec523"
      },
      "source": [
        "u = np.array([0, 0, 0])\n",
        "algoritma_umum(Q, b, u, 0.1)\n",
        "algoritma_umum(Q, b, u, 0.01)\n",
        "algoritma_umum(Q, b, u, 0.001)\n",
        "\n",
        "v = np.array([1, 0.5, 0])\n",
        "w = np.array([1, 2, 3])\n",
        "x = np.array([10, 30, 15])\n",
        "y = np.array([-2, -3, -5])\n",
        "algoritma_umum(Q, b, v)\n",
        "algoritma_umum(Q, b, w)\n",
        "algoritma_umum(Q, b, x)\n",
        "algoritma_umum(Q, b, y)"
      ],
      "execution_count": null,
      "outputs": [
        {
          "output_type": "stream",
          "name": "stdout",
          "text": [
            "x0 = [0 0 0]\n",
            "alpha = 0.1\n",
            "iterasi ke- 500\n",
            "x = [ 5.00000000e-001  1.00000000e-001 -2.14301721e+299]\n",
            "error = inf\n",
            "\n",
            "x0 = [0 0 0]\n",
            "alpha = 0.01\n",
            "iterasi ke- 456\n",
            "x = [0.4999501 0.1       0.02     ]\n",
            "error = 9.979080264177487e-05\n",
            "\n",
            "x0 = [0 0 0]\n",
            "alpha = 0.001\n",
            "iterasi ke- 500\n",
            "x = [0.31624437 0.09934295 0.02      ]\n",
            "error = 0.367569984756773\n",
            "\n",
            "x0 = [1.  0.5 0. ]\n",
            "alpha = 0.01\n",
            "iterasi ke- 456\n",
            "x = [0.5000499 0.1       0.02     ]\n",
            "error = 9.979080264232998e-05\n",
            "\n",
            "x0 = [1 2 3]\n",
            "alpha = 0.01\n",
            "iterasi ke- 456\n",
            "x = [0.5000499 0.1       0.02     ]\n",
            "error = 9.979080264232998e-05\n",
            "\n",
            "x0 = [10 30 15]\n",
            "alpha = 0.01\n",
            "iterasi ke- 500\n",
            "x = [0.50038973 0.1        0.02      ]\n",
            "error = 0.0007794557177633887\n",
            "\n",
            "x0 = [-2 -3 -5]\n",
            "alpha = 0.01\n",
            "iterasi ke- 500\n",
            "x = [0.49989744 0.1        0.02      ]\n",
            "error = 0.00020511992572724846\n",
            "\n"
          ]
        }
      ]
    },
    {
      "cell_type": "markdown",
      "metadata": {
        "id": "UzvvQrwfLywt"
      },
      "source": [
        "## Steepest Decent"
      ]
    },
    {
      "cell_type": "code",
      "metadata": {
        "id": "frMYVEFhLYuu"
      },
      "source": [
        "def steepest_decent(Q, b, x0, maxiter = 500, eps = 1E-4):\n",
        "  df = lambda x: (Q @ x) - b\n",
        "  x = x0\n",
        "  k = 0\n",
        "  while k < maxiter:\n",
        "    alpha = (df(x) @ df(x)) / (df(x) @ Q @ df(x))\n",
        "    x = x - alpha * df(x)\n",
        "    k = k + 1\n",
        "    error = np.linalg.norm(df(x))\n",
        "    if error < eps:\n",
        "      break\n",
        "  print('x0 =', x0)\n",
        "  print('iterasi ke-', k)\n",
        "  print('x =', x)\n",
        "  print('error =', error)\n",
        "  print()"
      ],
      "execution_count": null,
      "outputs": []
    },
    {
      "cell_type": "code",
      "metadata": {
        "colab": {
          "base_uri": "https://localhost:8080/"
        },
        "id": "pHJYnBUMTIC6",
        "outputId": "fe88e396-617d-444e-ca6b-1926b81a4575"
      },
      "source": [
        "# tebakan awal x_0\n",
        "u = np.array([0, 0, 0])\n",
        "v = np.array([1, 0.5, 0])\n",
        "w = np.array([1, 2, 3])\n",
        "x = np.array([10, 30, 15])\n",
        "y = np.array([-2, -3, -5])\n",
        "\n",
        "steepest_decent(Q, b, u)\n",
        "steepest_decent(Q, b, v)\n",
        "steepest_decent(Q, b, w)\n",
        "steepest_decent(Q, b, x)\n",
        "steepest_decent(Q, b, y)"
      ],
      "execution_count": null,
      "outputs": [
        {
          "output_type": "stream",
          "name": "stdout",
          "text": [
            "x0 = [0 0 0]\n",
            "iterasi ke- 110\n",
            "x = [0.49996398 0.1        0.01999893]\n",
            "error = 8.96630412896532e-05\n",
            "\n",
            "x0 = [1.  0.5 0. ]\n",
            "iterasi ke- 64\n",
            "x = [0.500041   0.1        0.01999931]\n",
            "error = 8.887487307692048e-05\n",
            "\n",
            "x0 = [1 2 3]\n",
            "iterasi ke- 93\n",
            "x = [0.50004142 0.1        0.01999899]\n",
            "error = 9.712051808849456e-05\n",
            "\n",
            "x0 = [10 30 15]\n",
            "iterasi ke- 105\n",
            "x = [0.50004437 0.1        0.0199991 ]\n",
            "error = 9.93845244355667e-05\n",
            "\n",
            "x0 = [-2 -3 -5]\n",
            "iterasi ke- 59\n",
            "x = [0.49995447 0.1        0.02000063]\n",
            "error = 9.628183426007364e-05\n",
            "\n"
          ]
        }
      ]
    },
    {
      "cell_type": "markdown",
      "metadata": {
        "id": "Tkwat-oEL4XR"
      },
      "source": [
        "## Newton"
      ]
    },
    {
      "cell_type": "code",
      "metadata": {
        "id": "IhglqRKRXNQV"
      },
      "source": [
        "def newton(Q, b, x0, maxiter = 500, eps = 1E-4):\n",
        "  df = lambda x: (Q @ x) - b\n",
        "  x = x0\n",
        "  k = 0\n",
        "  while k < maxiter:\n",
        "    x = x - (np.linalg.inv(Q) @ df(x))\n",
        "    k = k + 1\n",
        "    error = np.linalg.norm(df(x))\n",
        "    if error < eps:\n",
        "      break\n",
        "  print('x0 =', x0)\n",
        "  print('iterasi ke-', k)\n",
        "  print('x =', x)\n",
        "  print('error =', error)\n",
        "  print()"
      ],
      "execution_count": null,
      "outputs": []
    },
    {
      "cell_type": "code",
      "metadata": {
        "colab": {
          "base_uri": "https://localhost:8080/"
        },
        "id": "5mZuZEwkYhlt",
        "outputId": "0587b432-226a-4f93-99e5-03394998537c"
      },
      "source": [
        "# tebakan awal x_0\n",
        "u = np.array([0, 0, 0])\n",
        "v = np.array([1, 0.5, 0])\n",
        "w = np.array([1, 2, 3])\n",
        "x = np.array([10, 30, 15])\n",
        "y = np.array([-2, -3, -5])\n",
        "\n",
        "newton(Q, b, u)\n",
        "newton(Q, b, v)\n",
        "newton(Q, b, w)\n",
        "newton(Q, b, x)\n",
        "newton(Q, b, y)"
      ],
      "execution_count": null,
      "outputs": [
        {
          "output_type": "stream",
          "name": "stdout",
          "text": [
            "x0 = [0 0 0]\n",
            "iterasi ke- 1\n",
            "x = [0.5  0.1  0.02]\n",
            "error = 0.0\n",
            "\n",
            "x0 = [1.  0.5 0. ]\n",
            "iterasi ke- 1\n",
            "x = [0.5  0.1  0.02]\n",
            "error = 2.220446049250313e-16\n",
            "\n",
            "x0 = [1 2 3]\n",
            "iterasi ke- 1\n",
            "x = [0.5  0.1  0.02]\n",
            "error = 1.6011864169946884e-15\n",
            "\n",
            "x0 = [10 30 15]\n",
            "iterasi ke- 1\n",
            "x = [0.5  0.1  0.02]\n",
            "error = 3.014577520672848e-14\n",
            "\n",
            "x0 = [-2 -3 -5]\n",
            "iterasi ke- 1\n",
            "x = [0.5  0.1  0.02]\n",
            "error = 2.310971295439701e-14\n",
            "\n"
          ]
        }
      ]
    },
    {
      "cell_type": "markdown",
      "metadata": {
        "id": "qXJg8u2vIO5z"
      },
      "source": [
        "## Conjugate Gradient"
      ]
    },
    {
      "cell_type": "code",
      "metadata": {
        "id": "UPtoQwiuZjhM"
      },
      "source": [
        "def conjugate_gradient(Q, b, x0, maxiter = 500, eps = 1E-4):\n",
        "  df = lambda x: (Q @ x) - b\n",
        "  x = x0\n",
        "  d = - df(x0)\n",
        "  k = 0\n",
        "  while k < maxiter:\n",
        "    alpha = - (d @ df(x)) / (d @ Q @ d)\n",
        "    x = x + alpha*d\n",
        "    d = - df(x) + ((df(x) @ Q @ d) / (d @ Q @ d)) * d\n",
        "    k = k + 1\n",
        "    error = np.linalg.norm(df(x))\n",
        "    if error < eps:\n",
        "      break\n",
        "  print('x0 =', x0)\n",
        "  print('iterasi ke-', k)\n",
        "  print('x =', x)\n",
        "  print('error =', error)\n",
        "  print()"
      ],
      "execution_count": null,
      "outputs": []
    },
    {
      "cell_type": "code",
      "metadata": {
        "colab": {
          "base_uri": "https://localhost:8080/"
        },
        "id": "mawKgbBFDH4m",
        "outputId": "a8435f4e-736d-483d-d7e9-3c7a9ac4481e"
      },
      "source": [
        "# tebakan awal x_0\n",
        "u = np.array([0, 0, 0])\n",
        "v = np.array([1, 0.5, 0])\n",
        "w = np.array([1, 2, 3])\n",
        "x = np.array([10, 30, 15])\n",
        "y = np.array([-2, -3, -5])\n",
        "\n",
        "conjugate_gradient(Q, b, u)\n",
        "conjugate_gradient(Q, b, v)\n",
        "conjugate_gradient(Q, b, w)\n",
        "conjugate_gradient(Q, b, x)\n",
        "conjugate_gradient(Q, b, y)"
      ],
      "execution_count": null,
      "outputs": [
        {
          "output_type": "stream",
          "name": "stdout",
          "text": [
            "x0 = [0 0 0]\n",
            "iterasi ke- 3\n",
            "x = [0.5  0.1  0.02]\n",
            "error = 3.614624287906422e-15\n",
            "\n",
            "x0 = [1.  0.5 0. ]\n",
            "iterasi ke- 3\n",
            "x = [0.5  0.1  0.02]\n",
            "error = 4.397660529140337e-15\n",
            "\n",
            "x0 = [1 2 3]\n",
            "iterasi ke- 3\n",
            "x = [0.5  0.1  0.02]\n",
            "error = 2.0192756393488435e-13\n",
            "\n",
            "x0 = [10 30 15]\n",
            "iterasi ke- 3\n",
            "x = [0.5  0.1  0.02]\n",
            "error = 1.7058327594578462e-12\n",
            "\n",
            "x0 = [-2 -3 -5]\n",
            "iterasi ke- 3\n",
            "x = [0.5  0.1  0.02]\n",
            "error = 4.241044106934748e-13\n",
            "\n"
          ]
        }
      ]
    }
  ]
}